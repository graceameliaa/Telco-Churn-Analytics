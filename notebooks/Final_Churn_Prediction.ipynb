{
  "nbformat": 4,
  "nbformat_minor": 0,
  "metadata": {
    "colab": {
      "provenance": []
    },
    "kernelspec": {
      "name": "python3",
      "display_name": "Python 3"
    },
    "language_info": {
      "name": "python"
    }
  },
  "cells": [
    {
      "cell_type": "code",
      "execution_count": 3,
      "metadata": {
        "id": "-v0eMn1oL_Dj"
      },
      "outputs": [],
      "source": [
        "import pandas as pd\n",
        "import numpy as np\n",
        "import matplotlib.pyplot as plt\n",
        "import seaborn as sns\n",
        "from sklearn.model_selection import train_test_split, GridSearchCV\n",
        "from sklearn.ensemble import RandomForestClassifier\n",
        "from sklearn.metrics import classification_report, confusion_matrix\n",
        "from sklearn.preprocessing import LabelEncoder\n",
        "from imblearn.over_sampling import SMOTE\n",
        "import warnings\n",
        "import joblib"
      ]
    },
    {
      "cell_type": "markdown",
      "source": [
        "# Import Data"
      ],
      "metadata": {
        "id": "ExH-R4B4aW73"
      }
    },
    {
      "cell_type": "code",
      "source": [
        "# Read the data from the specified sheet into a pandas DataFrame\n",
        "data = pd.read_csv('/content/Data_Churn.csv')\n",
        "\n",
        "# Display the first few rows of the fetched data\n",
        "print(data.head())"
      ],
      "metadata": {
        "colab": {
          "base_uri": "https://localhost:8080/"
        },
        "id": "Unp31-YZMIWk",
        "outputId": "fc15fe4c-424d-4f10-837e-7964393b4fd4"
      },
      "execution_count": 4,
      "outputs": [
        {
          "output_type": "stream",
          "name": "stdout",
          "text": [
            "  Customer_ID  Gender  Age  Married           State  Number_of_Referrals  \\\n",
            "0   11098-MAD  Female   30     True  Madhya Pradesh                    0   \n",
            "1   11114-PUN    Male   51    False          Punjab                    5   \n",
            "2   11167-WES  Female   43     True     West Bengal                    3   \n",
            "3   11179-MAH    Male   35    False     Maharashtra                   10   \n",
            "4   11180-TAM    Male   75     True      Tamil Nadu                   12   \n",
            "\n",
            "   Tenure_in_Months Value_Deal Phone_Service Multiple_Lines  ...  \\\n",
            "0                31     Deal 1           Yes             No  ...   \n",
            "1                 9     Deal 5           Yes             No  ...   \n",
            "2                28     Deal 1           Yes            Yes  ...   \n",
            "3                12        NaN           Yes             No  ...   \n",
            "4                27     Deal 2           Yes             No  ...   \n",
            "\n",
            "    Payment_Method Monthly_Charge Total_Charges Total_Refunds  \\\n",
            "0  Bank Withdrawal            951         66834             0   \n",
            "1  Bank Withdrawal           4915         16905             0   \n",
            "2  Bank Withdrawal          11605         82975          4257   \n",
            "3      Credit Card            844         59693             0   \n",
            "4      Credit Card            726        408435             0   \n",
            "\n",
            "  Total_Extra_Data_Charges Total_Long_Distance_Charges Total_Revenue  \\\n",
            "0                        0                       63172        731512   \n",
            "1                       10                       12237         30142   \n",
            "2                      110                      187298       1023791   \n",
            "3                        0                       21939        618869   \n",
            "4                      140                       33208        455643   \n",
            "\n",
            "  Customer_Status Churn_Category                   Churn_Reason  \n",
            "0          Stayed         Others                         Others  \n",
            "1         Churned     Competitor  Competitor had better devices  \n",
            "2          Stayed         Others                         Others  \n",
            "3          Stayed         Others                         Others  \n",
            "4          Stayed         Others                         Others  \n",
            "\n",
            "[5 rows x 32 columns]\n"
          ]
        }
      ]
    },
    {
      "cell_type": "markdown",
      "source": [
        "# Data Preprocessing"
      ],
      "metadata": {
        "id": "y-ZsdFl5amN3"
      }
    },
    {
      "cell_type": "code",
      "source": [
        "# Drop columns that won't be used for prediction\n",
        "data_cleaned = data.drop(['Customer_ID', 'Churn_Category', 'Churn_Reason'], axis=1)"
      ],
      "metadata": {
        "id": "PaRfw1NLNUGM"
      },
      "execution_count": 5,
      "outputs": []
    },
    {
      "cell_type": "code",
      "source": [
        "# Encode all categorical variables using LabelEncoder\n",
        "label_encoders = {}\n",
        "for column in data_cleaned.select_dtypes(include=['object']).columns:\n",
        "    le = LabelEncoder()\n",
        "    data_cleaned[column] = le.fit_transform(data_cleaned[column])\n",
        "    label_encoders[column] = le"
      ],
      "metadata": {
        "id": "200Y0q2was2i"
      },
      "execution_count": 6,
      "outputs": []
    },
    {
      "cell_type": "code",
      "source": [
        "# Define features (X) and target (y)\n",
        "# In the encoded 'Customer_Status', 'Churned' is 0 and 'Stayed' is 2.\n",
        "status_encoder = label_encoders['Customer_Status']\n",
        "print(f\"Label Encoder Mapping for Customer_Status: {dict(zip(status_encoder.classes_, status_encoder.transform(status_encoder.classes_)))}\")"
      ],
      "metadata": {
        "id": "TWQoBit_avIO",
        "colab": {
          "base_uri": "https://localhost:8080/"
        },
        "outputId": "d30a261c-9f5a-499f-ce25-47b0ad56af9a"
      },
      "execution_count": 7,
      "outputs": [
        {
          "output_type": "stream",
          "name": "stdout",
          "text": [
            "Label Encoder Mapping for Customer_Status: {'Churned': np.int64(0), 'Stayed': np.int64(1)}\n"
          ]
        }
      ]
    },
    {
      "cell_type": "code",
      "source": [
        "# Filter the data to only include 'Churned' and 'Stayed' customers\n",
        "# Assume 'Churned' is 0 and 'Stayed' is 2 from the mapping\n",
        "churn_value = status_encoder.transform(['Churned'])[0]\n",
        "stayed_value = status_encoder.transform(['Stayed'])[0]\n",
        "\n",
        "final_data = data_cleaned[data_cleaned['Customer_Status'].isin([churn_value, stayed_value])]\n",
        "\n",
        "X = final_data.drop('Customer_Status', axis=1)\n",
        "y = final_data['Customer_Status']"
      ],
      "metadata": {
        "id": "wPXC5ZprvFIy"
      },
      "execution_count": 8,
      "outputs": []
    },
    {
      "cell_type": "code",
      "source": [
        "# Split the data into training and testing sets, ensuring balanced classes in the split\n",
        "X_train, X_test, y_train, y_test = train_test_split(X, y, test_size=0.2, random_state=42, stratify=y)"
      ],
      "metadata": {
        "id": "pKpSQTHka60K"
      },
      "execution_count": 9,
      "outputs": []
    },
    {
      "cell_type": "markdown",
      "source": [
        "# Data Balancing"
      ],
      "metadata": {
        "id": "CDezEMkXvStQ"
      }
    },
    {
      "cell_type": "code",
      "source": [
        "# Handle Class Imbalance with SMOTE\n",
        "print(\"--- Handling Class Imbalance with SMOTE ---\")\n",
        "print(\"Class distribution before SMOTE:\")\n",
        "print(y_train.value_counts())"
      ],
      "metadata": {
        "colab": {
          "base_uri": "https://localhost:8080/"
        },
        "id": "HgwOBXJvvWb7",
        "outputId": "35ead0f4-926e-4b2f-871a-bc5f6a6af536"
      },
      "execution_count": 10,
      "outputs": [
        {
          "output_type": "stream",
          "name": "stdout",
          "text": [
            "--- Handling Class Imbalance with SMOTE ---\n",
            "Class distribution before SMOTE:\n",
            "Customer_Status\n",
            "1    3420\n",
            "0    1385\n",
            "Name: count, dtype: int64\n"
          ]
        }
      ]
    },
    {
      "cell_type": "code",
      "source": [
        "smote = SMOTE(random_state=42)\n",
        "X_train_smote, y_train_smote = smote.fit_resample(X_train, y_train)\n",
        "\n",
        "print(\"\\nClass distribution after SMOTE:\")\n",
        "print(y_train_smote.value_counts())\n",
        "print(\"SMOTE applied successfully.\\n\")"
      ],
      "metadata": {
        "colab": {
          "base_uri": "https://localhost:8080/"
        },
        "id": "xz75qEUQvdTe",
        "outputId": "713a0c06-4943-441a-ef20-b9b3a0a6b222"
      },
      "execution_count": 11,
      "outputs": [
        {
          "output_type": "stream",
          "name": "stdout",
          "text": [
            "\n",
            "Class distribution after SMOTE:\n",
            "Customer_Status\n",
            "1    3420\n",
            "0    3420\n",
            "Name: count, dtype: int64\n",
            "SMOTE applied successfully.\n",
            "\n"
          ]
        }
      ]
    },
    {
      "cell_type": "markdown",
      "source": [
        "# Train Model with Balancing And Hyperparamater Tuning"
      ],
      "metadata": {
        "id": "Il8bbAotzsXB"
      }
    },
    {
      "cell_type": "code",
      "source": [
        "#Hyperparameter Tuning with GridSearchCV\n",
        "print(\"--- Tuning Hyperparameters with GridSearchCV ---\")\n",
        "# Define the parameter grid to search\n",
        "param_grid = {\n",
        "    'n_estimators': [100, 200],\n",
        "    'max_depth': [10, 20, None],\n",
        "    'min_samples_leaf': [1, 2],\n",
        "    'criterion': ['gini', 'entropy']\n",
        "}\n",
        "\n",
        "# Instantiate the RandomForestClassifier\n",
        "rf = RandomForestClassifier(random_state=42)\n",
        "\n",
        "# Instantiate GridSearchCV to find the best parameters for 'recall'\n",
        "grid_search = GridSearchCV(estimator=rf, param_grid=param_grid,\n",
        "                           cv=5, n_jobs=-1, scoring='recall', verbose=2)\n",
        "\n",
        "# Fit GridSearchCV to the balanced training data\n",
        "print(\"Starting Grid Search...\")\n",
        "grid_search.fit(X_train_smote, y_train_smote)\n",
        "\n",
        "# Get the best model\n",
        "best_rf_model = grid_search.best_estimator_\n",
        "\n",
        "print(\"\\nBest Parameters Found:\")\n",
        "print(grid_search.best_params_)\n",
        "print(\"Hyperparameter tuning complete.\\n\")"
      ],
      "metadata": {
        "colab": {
          "base_uri": "https://localhost:8080/"
        },
        "id": "xikbWUXizvUK",
        "outputId": "53231969-6146-412c-de8b-df3cb3fbc855"
      },
      "execution_count": 12,
      "outputs": [
        {
          "output_type": "stream",
          "name": "stdout",
          "text": [
            "--- Tuning Hyperparameters with GridSearchCV ---\n",
            "Starting Grid Search...\n",
            "Fitting 5 folds for each of 24 candidates, totalling 120 fits\n",
            "\n",
            "Best Parameters Found:\n",
            "{'criterion': 'gini', 'max_depth': 20, 'min_samples_leaf': 1, 'n_estimators': 200}\n",
            "Hyperparameter tuning complete.\n",
            "\n"
          ]
        }
      ]
    },
    {
      "cell_type": "markdown",
      "source": [
        "# Evaluate Model with Balancing And Hyperparamater Tuning\n"
      ],
      "metadata": {
        "id": "j6-Owk7QzXms"
      }
    },
    {
      "cell_type": "code",
      "source": [
        "# Evaluate the Optimized Model\n",
        "print(\"--- Evaluating the Optimized Model ---\")\n",
        "# Make predictions on the unseen test set\n",
        "y_pred = best_rf_model.predict(X_test)\n",
        "\n",
        "# Display the evaluation metrics\n",
        "print(\"\\nConfusion Matrix:\")\n",
        "print(confusion_matrix(y_test, y_pred))\n",
        "\n",
        "print(\"\\nClassification Report:\")\n",
        "print(classification_report(y_test, y_pred, target_names=['Churned', 'Stayed']))\n",
        "print(\"Evaluation complete.\\n\")"
      ],
      "metadata": {
        "colab": {
          "base_uri": "https://localhost:8080/"
        },
        "id": "Ue38OFjqzdPj",
        "outputId": "83b68868-e032-416e-f417-07873b780890"
      },
      "execution_count": 13,
      "outputs": [
        {
          "output_type": "stream",
          "name": "stdout",
          "text": [
            "--- Evaluating the Optimized Model ---\n",
            "\n",
            "Confusion Matrix:\n",
            "[[235 112]\n",
            " [109 746]]\n",
            "\n",
            "Classification Report:\n",
            "              precision    recall  f1-score   support\n",
            "\n",
            "     Churned       0.68      0.68      0.68       347\n",
            "      Stayed       0.87      0.87      0.87       855\n",
            "\n",
            "    accuracy                           0.82      1202\n",
            "   macro avg       0.78      0.77      0.78      1202\n",
            "weighted avg       0.82      0.82      0.82      1202\n",
            "\n",
            "Evaluation complete.\n",
            "\n"
          ]
        }
      ]
    },
    {
      "cell_type": "code",
      "source": [
        "# Feature Importance\n",
        "print(\"--- Analyzing Feature Importance ---\")\n",
        "feature_importances = pd.DataFrame(best_rf_model.feature_importances_,\n",
        "                                   index = X_train.columns,\n",
        "                                   columns=['importance']).sort_values('importance', ascending=False)\n",
        "\n",
        "plt.figure(figsize=(10, 8))\n",
        "sns.barplot(x=feature_importances.importance, y=feature_importances.index)\n",
        "plt.title('Feature Importance')\n",
        "plt.xlabel('Importance Score')\n",
        "plt.ylabel('Features')\n",
        "plt.tight_layout()\n",
        "plt.show()\n",
        "print(\"Feature importance analysis complete.\")"
      ],
      "metadata": {
        "colab": {
          "base_uri": "https://localhost:8080/",
          "height": 843
        },
        "id": "6jR6tdmy0ayE",
        "outputId": "b305ff19-1f13-4aa0-fe5e-a5b817cb5993"
      },
      "execution_count": 14,
      "outputs": [
        {
          "output_type": "stream",
          "name": "stdout",
          "text": [
            "--- Analyzing Feature Importance ---\n"
          ]
        },
        {
          "output_type": "display_data",
          "data": {
            "text/plain": [
              "<Figure size 1000x800 with 1 Axes>"
            ],
            "image/png": "[encoded data removed]"
          },
          "metadata": {}
        },
        {
          "output_type": "stream",
          "name": "stdout",
          "text": [
            "Feature importance analysis complete.\n"
          ]
        }
      ]
    },
    {
      "cell_type": "markdown",
      "source": [
        "# Use Model for Prediction on New Data"
      ],
      "metadata": {
        "id": "XSj_qnX5bPvd"
      }
    },
    {
      "cell_type": "code",
      "source": [
        "# Read the data from the specified sheet into a pandas DataFrame\n",
        "new_data = pd.read_csv('/content/Prediction_Data_Join.csv')\n",
        "\n",
        "# Display the first few rows of the fetched data\n",
        "print(new_data.head())"
      ],
      "metadata": {
        "colab": {
          "base_uri": "https://localhost:8080/"
        },
        "id": "0n-IjtOybFBg",
        "outputId": "0438d2a0-1993-4468-b63c-55e694e54c38"
      },
      "execution_count": 15,
      "outputs": [
        {
          "output_type": "stream",
          "name": "stdout",
          "text": [
            "  Customer_ID  Gender  Age  Married        State  Number_of_Referrals  \\\n",
            "0   11751-TAM  Female   18    False   Tamil Nadu                    5   \n",
            "1   12056-WES    Male   27    False  West Bengal                    2   \n",
            "2   12136-RAJ  Female   25     True    Rajasthan                    2   \n",
            "3   12257-ASS  Female   39    False        Assam                    9   \n",
            "4   12340-DEL  Female   51     True        Delhi                    0   \n",
            "\n",
            "   Tenure_in_Months Value_Deal Phone_Service Multiple_Lines  ...  \\\n",
            "0                 7     Deal 5            No             No  ...   \n",
            "1                20        NaN           Yes             No  ...   \n",
            "2                35        NaN           Yes             No  ...   \n",
            "3                 1        NaN           Yes             No  ...   \n",
            "4                10        NaN           Yes             No  ...   \n",
            "\n",
            "    Payment_Method Monthly_Charge Total_Charges Total_Refunds  \\\n",
            "0     Mailed Check            243          3845             0   \n",
            "1  Bank Withdrawal            904         26845             0   \n",
            "2  Bank Withdrawal            199           199             0   \n",
            "3      Credit Card           1955          1955             0   \n",
            "4      Credit Card            628           628             0   \n",
            "\n",
            "  Total_Extra_Data_Charges Total_Long_Distance_Charges Total_Revenue  \\\n",
            "0                        0                           0          3845   \n",
            "1                        0                        9444         36289   \n",
            "2                        0                        1183          3173   \n",
            "3                        0                         102          2975   \n",
            "4                        0                        4219         10499   \n",
            "\n",
            "  Customer_Status Churn_Category Churn_Reason  \n",
            "0          Joined         Others       Others  \n",
            "1          Joined         Others       Others  \n",
            "2          Joined         Others       Others  \n",
            "3          Joined         Others       Others  \n",
            "4          Joined         Others       Others  \n",
            "\n",
            "[5 rows x 32 columns]\n"
          ]
        }
      ]
    },
    {
      "cell_type": "code",
      "source": [
        "# Keep a copy of the original data\n",
        "final_report_df = new_data.copy()"
      ],
      "metadata": {
        "id": "u8JRe8CVbmhl"
      },
      "execution_count": 16,
      "outputs": []
    },
    {
      "cell_type": "code",
      "source": [
        "# Prepare the Data for Prediction\n",
        "print(\"Preparing data for prediction...\")\n",
        "# Drop columns that are not used as features by the model.\n",
        "new_data_features = new_data.drop(['Customer_ID', 'Customer_Status', 'Churn_Category', 'Churn_Reason'], axis=1)"
      ],
      "metadata": {
        "id": "jmPuOOLdb4a2",
        "colab": {
          "base_uri": "https://localhost:8080/"
        },
        "outputId": "ae9e1a84-9722-436e-9709-a9cd71243e11"
      },
      "execution_count": 17,
      "outputs": [
        {
          "output_type": "stream",
          "name": "stdout",
          "text": [
            "Preparing data for prediction...\n"
          ]
        }
      ]
    },
    {
      "cell_type": "code",
      "source": [
        "# Robust Encoding for Categorical Variables\n",
        "print(\"Encoding categorical variables...\")\n",
        "for column in new_data_features.select_dtypes(include=['object']).columns:\n",
        "    if column in label_encoders:\n",
        "        le = label_encoders[column]\n",
        "        known_classes = list(le.classes_)\n",
        "\n",
        "        # Apply transformation, replacing unseen values with -1 (unknown category)\n",
        "        new_data_features[column] = new_data_features[column].apply(\n",
        "            lambda x: le.transform([x])[0] if x in known_classes else -1\n",
        "        )\n",
        "    else:\n",
        "        print(f\"Warning: Encoder for column '{column}' not found. Skipping.\")\n",
        "print(\"Encoding complete.\")"
      ],
      "metadata": {
        "id": "2aVi5TF_cEuf",
        "colab": {
          "base_uri": "https://localhost:8080/"
        },
        "outputId": "b343a3ed-a488-46c0-f631-bd0fad436a6e"
      },
      "execution_count": 18,
      "outputs": [
        {
          "output_type": "stream",
          "name": "stdout",
          "text": [
            "Encoding categorical variables...\n",
            "Encoding complete.\n"
          ]
        }
      ]
    },
    {
      "cell_type": "code",
      "source": [
        "# Make Predictions with the Best Model\n",
        "print(\"Making predictions with the tuned model...\")\n",
        "# Use the 'best_rf_model' that was trained with SMOTE and GridSearchCV\n",
        "new_predictions_numeric = best_rf_model.predict(new_data_features)"
      ],
      "metadata": {
        "id": "OxnPSQfMm1uX",
        "colab": {
          "base_uri": "https://localhost:8080/"
        },
        "outputId": "3ccd172e-6e35-4c60-f464-40329c54641f"
      },
      "execution_count": 19,
      "outputs": [
        {
          "output_type": "stream",
          "name": "stdout",
          "text": [
            "Making predictions with the tuned model...\n"
          ]
        }
      ]
    },
    {
      "cell_type": "code",
      "source": [
        "# Decode Predictions into Human-Readable Labels\n",
        "print(\"Decoding predictions into text labels...\")\n",
        "# Get the encoder for the target variable 'Customer_Status'\n",
        "status_encoder = label_encoders['Customer_Status']\n",
        "# Use inverse_transform to convert numbers back to original labels ('Churned', 'Stayed')\n",
        "new_predictions_text = status_encoder.inverse_transform(new_predictions_numeric)"
      ],
      "metadata": {
        "id": "hh92QgjQnkjv",
        "colab": {
          "base_uri": "https://localhost:8080/"
        },
        "outputId": "a45616ef-6b6d-43bc-9084-6027d84233a6"
      },
      "execution_count": 20,
      "outputs": [
        {
          "output_type": "stream",
          "name": "stdout",
          "text": [
            "Decoding predictions into text labels...\n"
          ]
        }
      ]
    },
    {
      "cell_type": "code",
      "source": [
        "# Create and Save the Final Report\n",
        "print(\"Creating and saving the final prediction reports...\")\n",
        "# Add the new prediction column to the full original DataFrame\n",
        "final_report_df['Predicted_Status'] = new_predictions_text\n",
        "\n",
        "# Filter and save a report for churned customers only ---\n",
        "# Create a new DataFrame containing only the customers predicted to churn\n",
        "churned_only_df = final_report_df[final_report_df['Predicted_Status'] == 'Churned'].copy()\n",
        "\n",
        "# Save the churn-only report to a new CSV file\n",
        "churned_only_df.to_csv('Churned_Only_Prediction.csv', index=False)\n",
        "print(\"Report for churn-risk customers saved to 'Churned_Only_Prediction.csv'\")\n",
        "\n",
        "\n",
        "print(\"\\nPrediction complete!\")\n",
        "print(\"\\nFirst 5 rows of the full report:\")\n",
        "# Display the head of the full report\n",
        "print(final_report_df.head())"
      ],
      "metadata": {
        "id": "RJLby6aqoZOW",
        "colab": {
          "base_uri": "https://localhost:8080/"
        },
        "outputId": "14ea4878-4fd9-4977-9f8c-307a6dd9f186"
      },
      "execution_count": 21,
      "outputs": [
        {
          "output_type": "stream",
          "name": "stdout",
          "text": [
            "Creating and saving the final prediction reports...\n",
            "Report for churn-risk customers saved to 'Churned_Only_Prediction.csv'\n",
            "\n",
            "Prediction complete!\n",
            "\n",
            "First 5 rows of the full report:\n",
            "  Customer_ID  Gender  Age  Married        State  Number_of_Referrals  \\\n",
            "0   11751-TAM  Female   18    False   Tamil Nadu                    5   \n",
            "1   12056-WES    Male   27    False  West Bengal                    2   \n",
            "2   12136-RAJ  Female   25     True    Rajasthan                    2   \n",
            "3   12257-ASS  Female   39    False        Assam                    9   \n",
            "4   12340-DEL  Female   51     True        Delhi                    0   \n",
            "\n",
            "   Tenure_in_Months Value_Deal Phone_Service Multiple_Lines  ...  \\\n",
            "0                 7     Deal 5            No             No  ...   \n",
            "1                20        NaN           Yes             No  ...   \n",
            "2                35        NaN           Yes             No  ...   \n",
            "3                 1        NaN           Yes             No  ...   \n",
            "4                10        NaN           Yes             No  ...   \n",
            "\n",
            "  Monthly_Charge Total_Charges Total_Refunds Total_Extra_Data_Charges  \\\n",
            "0            243          3845             0                        0   \n",
            "1            904         26845             0                        0   \n",
            "2            199           199             0                        0   \n",
            "3           1955          1955             0                        0   \n",
            "4            628           628             0                        0   \n",
            "\n",
            "  Total_Long_Distance_Charges Total_Revenue Customer_Status Churn_Category  \\\n",
            "0                           0          3845          Joined         Others   \n",
            "1                        9444         36289          Joined         Others   \n",
            "2                        1183          3173          Joined         Others   \n",
            "3                         102          2975          Joined         Others   \n",
            "4                        4219         10499          Joined         Others   \n",
            "\n",
            "  Churn_Reason Predicted_Status  \n",
            "0       Others          Churned  \n",
            "1       Others          Churned  \n",
            "2       Others          Churned  \n",
            "3       Others          Churned  \n",
            "4       Others          Churned  \n",
            "\n",
            "[5 rows x 33 columns]\n"
          ]
        }
      ]
    }
  ]
}